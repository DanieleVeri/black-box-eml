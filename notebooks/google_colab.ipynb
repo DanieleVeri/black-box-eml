{
 "cells": [
  {
   "cell_type": "markdown",
   "metadata": {
    "id": "Hz2foCh7eqQr"
   },
   "source": [
    "# EMLOpt\n",
    "Master Thesis in Artificial Intelligence at University of Bologna, a.y. 2021/2022\n",
    "\n",
    "Daniele Verì, Michele Lombardi, Andrea Borghesi, Stefano Teso\n"
   ]
  },
  {
   "cell_type": "code",
   "execution_count": null,
   "metadata": {
    "id": "qUbVk2LMa3Ek"
   },
   "outputs": [],
   "source": [
    "!unzip eml-opt.zip\n",
    "!pip install -r eml-opt/dependencies/requirements.txt\n",
    "!git clone https://github.com/DanieleVeri/emllib.git eml-opt/dependencies/emllib\n",
    "!mkdir eml-opt/dependencies/cplex\n",
    "!wget https://api.wandb.ai/artifactsV2/gcp-us/veri/QXJ0aWZhY3Q6MjU1ODAzMjI=/69b1b89a73a7d0931fbfdb355eb147c3 -O eml-opt/dependencies/cplex/cplex_studio1210.linux-x86-64.bin\n",
    "!wget https://api.wandb.ai/artifactsV2/gcp-us/veri/QXJ0aWZhY3Q6MjU1ODAzMjI=/97133b747b0114a4e3dba77ab26d68d5 -O eml-opt/dependencies/cplex/response.properties\n",
    "!pip install docplex\n",
    "!sh eml-opt/dependencies/cplex/cplex_studio1210.linux-x86-64.bin -f response.properties\n",
    "!python3 /opt/ibm/ILOG/CPLEX_Studio1210/python/setup.py install"
   ]
  },
  {
   "cell_type": "code",
   "execution_count": null,
   "metadata": {
    "id": "FMFQfRVda1cr"
   },
   "outputs": [],
   "source": [
    "import sys\n",
    "sys.path.append(\"./eml-opt\") \n",
    "\n",
    "%load_ext autoreload\n",
    "%autoreload 2"
   ]
  },
  {
   "cell_type": "code",
   "execution_count": null,
   "metadata": {
    "id": "1O0-FnmgZ_8U",
    "scrolled": false
   },
   "outputs": [],
   "source": [
    "from emlopt.config import DEFAULT\n",
    "from emlopt.search_loop import SearchLoop\n",
    "from emlopt.problem import build_problem\n",
    "from emlopt.wandb import WandbContext\n",
    "\n",
    "from problems.quantization.tpc import build_tpc, constraint_max_bits\n",
    "\n",
    "# tpc_obj = build_tpc()\n",
    "# problem = IntegerProblem(\"test\", tpc_obj, [\"int\"]*41, [[2, 8]]*41, constraint_max_bits)\n",
    "problem = build_problem(\"test\", lambda x: (x[0]+x[1])**2, [\"real\"]*2, [[2, 8]]*2, constraint_max_bits)\n",
    "search = SearchLoop(problem, DEFAULT)\n",
    "\n",
    "wandb_cfg = WandbContext.get_defatult_cfg()\n",
    "wandb_cfg['experiment_name'] = \"navajo joe\"\n",
    "\n",
    "with WandbContext(wandb_cfg, search):\n",
    "    search.run()"
   ]
  }
 ],
 "metadata": {
  "accelerator": "GPU",
  "colab": {
   "collapsed_sections": [
    "nNNmQ5x5YJaS",
    "JcyNrxy43Bgb"
   ],
   "name": "release.ipynb",
   "provenance": []
  },
  "kernelspec": {
   "display_name": "Python 3 (ipykernel)",
   "language": "python",
   "name": "python3"
  },
  "language_info": {
   "codemirror_mode": {
    "name": "ipython",
    "version": 3
   },
   "file_extension": ".py",
   "mimetype": "text/x-python",
   "name": "python",
   "nbconvert_exporter": "python",
   "pygments_lexer": "ipython3",
   "version": "3.7.12"
  }
 },
 "nbformat": 4,
 "nbformat_minor": 1
}
