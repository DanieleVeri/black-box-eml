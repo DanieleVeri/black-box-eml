{
  "cells": [
    {
      "cell_type": "markdown",
      "metadata": {
        "id": "Hz2foCh7eqQr"
      },
      "source": [
        "# EMLOpt - Google Colab notebook\n"
      ]
    },
    {
      "cell_type": "markdown",
      "source": [
        "## Dependencies\n",
        "\n",
        "NOTE: Restart the runtime may be required"
      ],
      "metadata": {
        "id": "rV9KtGQHNRK0"
      }
    },
    {
      "cell_type": "code",
      "execution_count": null,
      "metadata": {
        "id": "qUbVk2LMa3Ek"
      },
      "outputs": [],
      "source": [
        "from google.colab import files\n",
        "files.upload()\n",
        "!unzip eml-opt.zip\n",
        "\n",
        "!pip install tensorflow-addons\n",
        "!pip install tensorflow-probability\n",
        "!pip install protobuf==3.19.0\n",
        "!pip install wandb\n",
        "\n",
        "!mkdir -p dependencies/cplex\n",
        "!wget https://api.wandb.ai/artifactsV2/gcp-us/veri/QXJ0aWZhY3Q6MjU1ODAzMjI=/69b1b89a73a7d0931fbfdb355eb147c3 -O dependencies/cplex/cplex_studio1210.linux-x86-64.bin\n",
        "!wget https://api.wandb.ai/artifactsV2/gcp-us/veri/QXJ0aWZhY3Q6MjU1ODAzMjI=/97133b747b0114a4e3dba77ab26d68d5 -O dependencies/cplex/response.properties\n",
        "\n",
        "!pip install cplex==12.9.0.0\n",
        "!pip install docloud==1.0.375\n",
        "!pip install docplex==2.10.155\n",
        "!pip install ortools==9.1.9490\n",
        "\n",
        "!sh dependencies/cplex/cplex_studio1210.linux-x86-64.bin -f response.properties\n",
        "!python3 /opt/ibm/ILOG/CPLEX_Studio1210/python/setup.py install\n"
      ]
    },
    {
      "cell_type": "markdown",
      "source": [
        "## Optimization"
      ],
      "metadata": {
        "id": "WxBqk1wSNVIE"
      }
    },
    {
      "cell_type": "code",
      "execution_count": null,
      "metadata": {
        "id": "1O0-FnmgZ_8U",
        "scrolled": false
      },
      "outputs": [],
      "source": [
        "!pip install tensorflow-model-optimization\n",
        "\n",
        "import sys\n",
        "sys.path.append(\"./eml-opt\") \n",
        "\n",
        "import numpy as np\n",
        "from emlopt import surrogates, solvers\n",
        "from emlopt.search_loop import SearchLoop\n",
        "from emlopt.problem import build_problem\n",
        "from emlopt.wandb import WandbContext\n",
        "from experiments.problems.quantization.tpc import build_tpc, constraint_max_bits\n",
        "\n",
        "tpc_obj = build_tpc()\n",
        "\n",
        "CONFIG = {\n",
        "    \"verbosity\": 2,\n",
        "\n",
        "    \"iterations\": 100,\n",
        "    \"starting_points\": 3,\n",
        "\n",
        "    \"surrogate_model\": {\n",
        "        \"type\": \"stop_ci\",\n",
        "        \"epochs\": 999,\n",
        "        \"learning_rate\": 5e-3,\n",
        "        \"weight_decay\": 1e-4,\n",
        "        \"batch_size\": None,\n",
        "        \"depth\": 2,\n",
        "        \"width\": 30,\n",
        "        \"ci_threshold\": 5e-2,\n",
        "    },\n",
        "\n",
        "    \"milp_model\": {\n",
        "        \"type\": \"simple_dist\",\n",
        "        \"backend\": \"cplex\",\n",
        "        \"bound_propagation\": \"both\",\n",
        "        \"lambda_ucb\": 1,\n",
        "        \"solver_timeout\": 120,\n",
        "    }\n",
        "}\n",
        "\n",
        "problem = build_problem(\"tpc\", tpc_obj, [\"int\"]*41, [[2, 8]]*41, constraint_max_bits)\n",
        "search = SearchLoop(problem, CONFIG)\n",
        "\n",
        "search.known_points = (np.expand_dims(np.array([4]*41), 0), -0.755)\n",
        "\n",
        "wandb_cfg = WandbContext.get_defatult_cfg()\n",
        "wandb_cfg['experiment_name'] = \"TPC\"\n",
        "\n",
        "with WandbContext(wandb_cfg, search):\n",
        "    search.run()"
      ]
    }
  ],
  "metadata": {
    "accelerator": "GPU",
    "colab": {
      "collapsed_sections": [],
      "name": "google_colab.ipynb",
      "provenance": []
    },
    "kernelspec": {
      "display_name": "Python 3 (ipykernel)",
      "language": "python",
      "name": "python3"
    },
    "language_info": {
      "codemirror_mode": {
        "name": "ipython",
        "version": 3
      },
      "file_extension": ".py",
      "mimetype": "text/x-python",
      "name": "python",
      "nbconvert_exporter": "python",
      "pygments_lexer": "ipython3",
      "version": "3.7.13"
    }
  },
  "nbformat": 4,
  "nbformat_minor": 0
}