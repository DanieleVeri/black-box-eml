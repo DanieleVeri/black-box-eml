{
  "nbformat": 4,
  "nbformat_minor": 0,
  "metadata": {
    "colab": {
      "name": "related_works.ipynb",
      "provenance": [],
      "collapsed_sections": []
    },
    "kernelspec": {
      "name": "python3",
      "display_name": "Python 3"
    },
    "language_info": {
      "name": "python"
    },
    "accelerator": "GPU"
  },
  "cells": [
    {
      "cell_type": "markdown",
      "source": [
        "# Dependencies"
      ],
      "metadata": {
        "id": "_zy92fjU_9-f"
      }
    },
    {
      "cell_type": "code",
      "source": [
        "#@title TF Quantization\n",
        "!pip install -q tensorflow-model-optimization"
      ],
      "metadata": {
        "id": "bjcP8tY6_9Ny"
      },
      "execution_count": null,
      "outputs": []
    },
    {
      "cell_type": "code",
      "execution_count": null,
      "metadata": {
        "id": "wpAfTcTRbJuv"
      },
      "outputs": [],
      "source": [
        "#@title PESC - Spearmint\n",
        "\n",
        "# MongoDb\n",
        "!apt install -y mongodb\n",
        "!pip2.7 install pymongo\n",
        "!mkdir mongodb\n",
        "!mongod --fork --logpath mongolog --dbpath mongodb\n",
        "\n",
        "# Spearmint\n",
        "!pip2.7 install numpy==1.10\n",
        "!pip2.7 install scipy==0.18.1\n",
        "!pip2.7 install weave\n",
        "!git clone https://github.com/HIPS/Spearmint.git\n",
        "!cd Spearmint && git checkout PESC\n",
        "!pip2.7 install -e Spearmint"
      ]
    },
    {
      "cell_type": "code",
      "source": [
        "#@title CMA-ES - Pycma\n",
        "\n",
        "!pip install cma"
      ],
      "metadata": {
        "id": "06Py_YNsbPMQ"
      },
      "execution_count": null,
      "outputs": []
    },
    {
      "cell_type": "code",
      "source": [
        "#@title cEI - GPflow\n",
        "\n",
        "!git clone https://github.com/GPflow/GPflow.git\n",
        "!cd GPflow && python setup.py develop\n",
        "\n",
        "!pip install pip==18.1\n",
        "!pip install git+https://github.com/GPflow/GPflowOpt.git --process-dependency-links"
      ],
      "metadata": {
        "id": "7LBIRaRQbTUd"
      },
      "execution_count": null,
      "outputs": []
    },
    {
      "cell_type": "code",
      "source": [
        "#@title COBYLA - scikit-optimize\n",
        "!pip install scikit-optimize"
      ],
      "metadata": {
        "id": "I559gpdR-15l"
      },
      "execution_count": null,
      "outputs": []
    },
    {
      "cell_type": "markdown",
      "metadata": {
        "id": "gl052paOKlDv"
      },
      "source": [
        "# Definition"
      ]
    },
    {
      "cell_type": "code",
      "source": [
        "#@title Base import and seed\n",
        "\n",
        "import os\n",
        "import math\n",
        "import random\n",
        "import numpy as np\n",
        "import tensorflow as tf\n",
        "\n",
        "import sys\n",
        "if not 'emllib' in sys.path: sys.path.insert(1, 'emllib')\n",
        "\n",
        "import pickle\n",
        "\n",
        "def set_seed(seed=42):\n",
        "    os.environ['PYTHONHASHSEED'] = str(seed)\n",
        "    np.random.seed(seed)\n",
        "    random.seed(seed)\n",
        "    tf.compat.v1.set_random_seed(seed)"
      ],
      "metadata": {
        "id": "YW40pw0rbcLM",
        "cellView": "form"
      },
      "execution_count": null,
      "outputs": []
    },
    {
      "cell_type": "code",
      "source": [
        "#@title Quantization definitions\n",
        "\n",
        "import tensorflow_model_optimization as tfmot\n",
        "from tensorflow_model_optimization.python.core.quantization.keras.default_8bit import default_8bit_quantize_scheme, default_8bit_quantize_registry, default_8bit_quantizers\n",
        "from tensorflow_model_optimization.quantization.keras.quantizers import LastValueQuantizer, MovingAverageQuantizer\n",
        "from tensorflow_model_optimization.quantization.keras import quantize_annotate_layer as ql\n",
        "from tensorflow_model_optimization.quantization.keras import quantize_annotate_model, QuantizeConfig\n",
        "import tensorflow as tf\n",
        "\n",
        "class ConvWeightsQuantizer(LastValueQuantizer):\n",
        "  \"\"\"Quantizer for handling weights in Conv2D/DepthwiseConv2D layers.\"\"\"\n",
        "  def __init__(self, bits):\n",
        "        super(ConvWeightsQuantizer, self).__init__(\n",
        "            num_bits=bits, per_axis=True, symmetric=True, narrow_range=True)\n",
        "  def build(self, tensor_shape, name, layer):\n",
        "    min_weight = layer.add_weight(\n",
        "        name + '_min',\n",
        "        shape=(tensor_shape[-1],),\n",
        "        initializer=tf.keras.initializers.Constant(-6.0),\n",
        "        trainable=False)\n",
        "    max_weight = layer.add_weight(\n",
        "        name + '_max',\n",
        "        shape=(tensor_shape[-1],),\n",
        "        initializer=tf.keras.initializers.Constant(6.0),\n",
        "        trainable=False)\n",
        "    return {'min_var': min_weight, 'max_var': max_weight}\n",
        "\n",
        "class QConf(default_8bit_quantize_registry.Default8BitQuantizeConfig):\n",
        "    def __init__(self, bits, conv, *args, **kwargs):\n",
        "        super(QConf, self).__init__(*args, **kwargs)\n",
        "        self.bits = bits\n",
        "        if conv:\n",
        "            self.weight_quantizer = ConvWeightsQuantizer(bits)\n",
        "        else:\n",
        "            self.weight_quantizer = LastValueQuantizer(\n",
        "                num_bits=self.bits, per_axis=False, symmetric=True, narrow_range=True)\n",
        "        self.activation_quantizer = MovingAverageQuantizer(\n",
        "            num_bits=self.bits, per_axis=False, symmetric=False, narrow_range=False)\n",
        "\n",
        "class QAct(default_8bit_quantize_registry.Default8BitActivationQuantizeConfig):\n",
        "    def __init__(self, bits, *args, **kwargs):\n",
        "        super(QAct, self).__init__(*args, **kwargs)\n",
        "        self.bits = bits\n",
        "\n",
        "    def get_output_quantizers(self, layer):\n",
        "        self._assert_activation_layer(layer)\n",
        "        if not hasattr(layer.activation, '__name__'):\n",
        "            raise ValueError('Activation {} not supported by '\n",
        "                            'Default8BitActivationQuantizeConfig.'.format(\n",
        "                                layer.activation))\n",
        "        if layer.activation.__name__ in ['relu', 'swish']:\n",
        "            return [MovingAverageQuantizer(\n",
        "            num_bits=self.bits, per_axis=False, symmetric=False, narrow_range=False)]\n",
        "        elif layer.activation.__name__ in ['linear', 'softmax', 'sigmoid', 'tanh']:\n",
        "            return []\n",
        "        raise ValueError('Activation {} not supported by '\n",
        "                        'Default8BitActivationQuantizeConfig.'.format(\n",
        "                            layer.activation))\n",
        "\n",
        "class QReg(default_8bit_quantize_registry.Default8BitQuantizeRegistry):\n",
        "    def __init__(self, bitlist, *args, **kwargs):\n",
        "        super(QReg, self).__init__(*args, **kwargs)\n",
        "        self.bitlist = bitlist\n",
        "        self.counter = -1\n",
        "\n",
        "    def get_quantize_config(self, layer):\n",
        "        self.counter += 1\n",
        "        quantize_info = self._get_quantize_info(layer.__class__)\n",
        "        if layer.name.startswith('activation'):\n",
        "            return QAct(self.bitlist[self.counter])\n",
        "        return QConf(self.bitlist[self.counter], \n",
        "                     layer.name.startswith('conv'),  # enable ConvWeightsQuantizer\n",
        "                     quantize_info.weight_attrs,\n",
        "                     quantize_info.activation_attrs,\n",
        "                     quantize_info.quantize_output)\n",
        "\n",
        "class QScheme(default_8bit_quantize_scheme.Default8BitQuantizeScheme):\n",
        "    def __init__(self, bitlist, *args, **kwargs):\n",
        "        super(QScheme, self).__init__(*args, **kwargs)\n",
        "        self.bitlist = bitlist\n",
        "\n",
        "    def get_quantize_registry(self):\n",
        "        return QReg(self.bitlist)"
      ],
      "metadata": {
        "id": "s4VNuHhh_R2F",
        "cellView": "form"
      },
      "execution_count": null,
      "outputs": []
    },
    {
      "cell_type": "code",
      "source": [
        "#@title Pull pretrained model\n",
        "\n",
        "cifar10 = tf.keras.datasets.cifar10\n",
        "(train_images, train_labels), (test_images, test_labels) = cifar10.load_data()\n",
        "dataset_mean = train_images.mean(axis=(0,1,2))\n",
        "dataset_std = train_images.std(axis=(0,1,2))\n",
        "train_images = (train_images - dataset_mean) / dataset_std\n",
        "test_images = (test_images - dataset_mean) / dataset_std\n",
        "\n",
        "!mkdir pretrained_resnet18\n",
        "!mkdir pretrained_resnet18/variables\n",
        "!wget https://api.wandb.ai/artifactsV2/gcp-us/veri/QXJ0aWZhY3Q6NTU2NTg0NjE=/d9d4d8f866df84014e528bb3c5617816 -O  pretrained_resnet18/variables/variables.data-00000-of-00001\n",
        "!wget https://api.wandb.ai/artifactsV2/gcp-us/veri/QXJ0aWZhY3Q6NTU2NTg0NjE=/4901af0e55327757ca7d7380b353279f -O  pretrained_resnet18/variables/variables.index\n",
        "!wget https://api.wandb.ai/artifactsV2/gcp-us/veri/QXJ0aWZhY3Q6NTU2NTg0NjE=/0a1a30ebb8498c7adaab17365283b563 -O  pretrained_resnet18/keras_metadata.pb\n",
        "!wget https://api.wandb.ai/artifactsV2/gcp-us/veri/QXJ0aWZhY3Q6NTU2NTg0NjE=/7c8a4682f521bac78f8a89b70342675b -O  pretrained_resnet18/saved_model.pb"
      ],
      "metadata": {
        "id": "kaVKO3Zo_V2V",
        "cellView": "form"
      },
      "execution_count": null,
      "outputs": []
    },
    {
      "cell_type": "code",
      "source": [
        "#@title Objective & Constraint\n",
        "\n",
        "y_samples = []\n",
        "\n",
        "def tpc(x):\n",
        "    print(\"Query for x=\", x)\n",
        "    model = tf.keras.models.load_model(\"pretrained_resnet18\")\n",
        "    model = quantize_annotate_model(model)\n",
        "    q_aware_model = tfmot.quantization.keras.quantize_apply(model, QScheme(x))\n",
        "    q_aware_model.compile(optimizer=\"adam\",\n",
        "                    loss='sparse_categorical_crossentropy', metrics=[\"accuracy\"])\n",
        "\n",
        "    q_aware_model.fit(train_images, train_labels,\n",
        "                    batch_size=512, epochs=5, validation_split=0.1,\n",
        "                    callbacks=[tf.keras.callbacks.EarlyStopping(monitor=\"val_loss\", \n",
        "                        patience=5, restore_best_weights=True)])\n",
        "    \n",
        "    q_aware_model_loss, q_aware_model_accuracy = q_aware_model.evaluate(\n",
        "        test_images, test_labels, verbose=0)\n",
        "    \n",
        "    y_samples.append(-q_aware_model_accuracy)\n",
        "\n",
        "    wandb.log({\"x\": x, \"y\": -q_aware_model_accuracy, \"y_min\": min(y_samples),\n",
        "               \"cst_violation\": cst(x)})\n",
        "    return -q_aware_model_accuracy\n",
        "\n",
        "def cst(x):\n",
        "    return len(x)*4 - sum(x)"
      ],
      "metadata": {
        "id": "4w0f76lkI7Hu",
        "cellView": "form"
      },
      "execution_count": null,
      "outputs": []
    },
    {
      "cell_type": "code",
      "source": [
        "#@title WandB\n",
        "\n",
        "# set if you plan to log on wandb\n",
        "ENABLE_WANDB = True                            #@param {type:\"boolean\"}        \n",
        "\n",
        "if ENABLE_WANDB and \"wandb\" not in sys.modules:\n",
        "    !pip install wandb > /dev/null\n",
        "    !wandb login\n",
        "    import wandb\n",
        "\n",
        "def init_wandb(experiment_name, run_id=None):\n",
        "    if run_id is not None:\n",
        "        wandb.init(project='eml', id=run_id, resume='allow')\n",
        "    else:\n",
        "        wandb.init(project='eml', name=experiment_name)"
      ],
      "metadata": {
        "id": "WlLSf9P0HS8o",
        "cellView": "form"
      },
      "execution_count": null,
      "outputs": []
    },
    {
      "cell_type": "markdown",
      "source": [
        "# Run"
      ],
      "metadata": {
        "id": "EYAi8pypYYUf"
      }
    },
    {
      "cell_type": "code",
      "execution_count": null,
      "metadata": {
        "id": "OgFVq_5M0KcI"
      },
      "outputs": [],
      "source": [
        "#@title PESC - Spearmint\n",
        "!cd Spearmint/spearmint && python2 main.py ../examples/constrained"
      ]
    },
    {
      "cell_type": "code",
      "execution_count": null,
      "metadata": {
        "id": "vfUwWjgbiCeg"
      },
      "outputs": [],
      "source": [
        "#@title CMA-ES - Pycma\n",
        "\n",
        "import cma\n",
        "\n",
        "es = cma.CMAEvolutionStrategy(8*[0], 0.5)\n",
        "es.optimize(cma.ff.rosen, iterations=20)"
      ]
    },
    {
      "cell_type": "code",
      "execution_count": null,
      "metadata": {
        "id": "kQlVY_zDz-Sx"
      },
      "outputs": [],
      "source": [
        "#@title cEI - GPFlowOpt\n",
        "\n",
        "import gpflow\n",
        "import gpflowopt\n",
        "import numpy as np\n",
        "\n",
        "# Objective & constraint\n",
        "def townsend(X):\n",
        "    return -(np.cos((X[:,0]-0.1)*X[:,1])**2 + X[:,0] * np.sin(3*X[:,0]+X[:,1]))[:,None]\n",
        "\n",
        "def constraint(X):\n",
        "    return -(-np.cos(1.5*X[:,0]+np.pi)*np.cos(1.5*X[:,1])+np.sin(1.5*X[:,0]+np.pi)*np.sin(1.5*X[:,1]))[:,None]\n",
        "\n",
        "# Setup input domain\n",
        "domain = gpflowopt.domain.ContinuousParameter('x1', -2.25, 2.5) + \\\n",
        "         gpflowopt.domain.ContinuousParameter('x2', -2.5, 1.75)\n",
        "\n",
        "# Plot\n",
        "def plotfx():\n",
        "    X = gpflowopt.design.FactorialDesign(101, domain).generate()\n",
        "    Zo = townsend(X)\n",
        "    Zc = constraint(X)\n",
        "    mask = Zc>=0\n",
        "    Zc[mask] = np.nan\n",
        "    Zc[np.logical_not(mask)] = 1\n",
        "    Z = Zo * Zc\n",
        "    shape = (101, 101)\n",
        "\n",
        "    f, axes = plt.subplots(1, 1, figsize=(7, 5))\n",
        "    axes.contourf(X[:,0].reshape(shape), X[:,1].reshape(shape), Z.reshape(shape))\n",
        "    axes.set_xlabel('x1')\n",
        "    axes.set_ylabel('x2')\n",
        "    axes.set_xlim([domain.lower[0], domain.upper[0]])\n",
        "    axes.set_ylim([domain.lower[1], domain.upper[1]])\n",
        "    return axes\n"
      ]
    },
    {
      "cell_type": "code",
      "source": [
        "#@title Cobyla - Scipy\n",
        "\n",
        "from scipy.optimize import fmin_cobyla\n",
        "\n",
        "init_wandb(\"COBYLA_tpc\")\n",
        "set_seed()\n",
        "\n",
        "fmin_cobyla(tpc, [4]*41, [cst], rhoend=1e-7, maxfun=200)"
      ],
      "metadata": {
        "cellView": "code",
        "id": "wipImpV3_Cmg"
      },
      "execution_count": null,
      "outputs": []
    }
  ]
}