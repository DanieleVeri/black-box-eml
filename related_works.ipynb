{
  "nbformat": 4,
  "nbformat_minor": 0,
  "metadata": {
    "colab": {
      "name": "related_works.ipynb",
      "provenance": []
    },
    "kernelspec": {
      "name": "python3",
      "display_name": "Python 3"
    },
    "language_info": {
      "name": "python"
    }
  },
  "cells": [
    {
      "cell_type": "code",
      "execution_count": null,
      "metadata": {
        "id": "wpAfTcTRbJuv"
      },
      "outputs": [],
      "source": [
        "#@title Spearmint\n",
        "\n",
        "# MongoDb\n",
        "!apt install -y mongodb\n",
        "!pip2.7 install pymongo\n",
        "!mkdir mongodb\n",
        "!mongod --fork --logpath mongolog --dbpath mongodb\n",
        "\n",
        "# Spearmint\n",
        "!pip2.7 install numpy==1.10\n",
        "!pip2.7 install scipy==0.18.1\n",
        "!pip2.7 install weave\n",
        "!git clone https://github.com/HIPS/Spearmint.git\n",
        "!cd Spearmint && git checkout PESC\n",
        "!pip2.7 install -e Spearmint"
      ]
    },
    {
      "cell_type": "code",
      "source": [
        "#@title Pycma\n",
        "\n",
        "!pip install cma"
      ],
      "metadata": {
        "id": "06Py_YNsbPMQ"
      },
      "execution_count": null,
      "outputs": []
    },
    {
      "cell_type": "code",
      "source": [
        "#@title GPflow\n",
        "\n",
        "!pip install pip==18.1\n",
        "!pip install git+https://github.com/GPflow/GPflowOpt.git --process-dependency-links"
      ],
      "metadata": {
        "id": "7LBIRaRQbTUd"
      },
      "execution_count": null,
      "outputs": []
    },
    {
      "cell_type": "code",
      "source": [
        "#@title Base import and seed\n",
        "\n",
        "import os\n",
        "import math\n",
        "import random\n",
        "import numpy as np\n",
        "import tensorflow as tf\n",
        "\n",
        "import sys\n",
        "if not 'emllib' in sys.path: sys.path.insert(1, 'emllib')\n",
        "\n",
        "import pickle\n",
        "\n",
        "def set_seed(seed=42):\n",
        "    os.environ['PYTHONHASHSEED'] = str(seed)\n",
        "    np.random.seed(seed)\n",
        "    random.seed(seed)\n",
        "    tf.compat.v1.set_random_seed(seed)"
      ],
      "metadata": {
        "id": "YW40pw0rbcLM"
      },
      "execution_count": null,
      "outputs": []
    },
    {
      "cell_type": "markdown",
      "metadata": {
        "id": "gl052paOKlDv"
      },
      "source": [
        "# Run"
      ]
    },
    {
      "cell_type": "code",
      "execution_count": null,
      "metadata": {
        "id": "OgFVq_5M0KcI"
      },
      "outputs": [],
      "source": [
        "#@title PESC\n",
        "!cd Spearmint/spearmint && python2 main.py ../examples/constrained"
      ]
    },
    {
      "cell_type": "code",
      "execution_count": null,
      "metadata": {
        "id": "vfUwWjgbiCeg",
        "colab": {
          "base_uri": "https://localhost:8080/"
        },
        "outputId": "dc1d18e2-bb2f-4626-f613-cdd79d3f7cde"
      },
      "outputs": [
        {
          "output_type": "stream",
          "name": "stdout",
          "text": [
            "(5_w,10)-aCMA-ES (mu_w=3.2,w_1=45%) in dimension 8 (seed=781024, Wed Jan 19 16:10:28 2022)\n",
            "Iterat #Fevals   function value  axis ratio  sigma  min&max std  t[m:s]\n",
            "    1     10 1.329413314625340e+02 1.0e+00 4.63e-01  4e-01  5e-01 0:00.0\n",
            "    2     20 2.434802958991313e+01 1.2e+00 3.91e-01  4e-01  4e-01 0:00.0\n",
            "    3     30 4.992302812686072e+01 1.4e+00 3.67e-01  3e-01  4e-01 0:00.0\n"
          ]
        },
        {
          "output_type": "execute_result",
          "data": {
            "text/plain": [
              "<cma.evolution_strategy.CMAEvolutionStrategy at 0x7f79d30dd210>"
            ]
          },
          "metadata": {},
          "execution_count": 55
        }
      ],
      "source": [
        "#@title CMA-ES\n",
        "\n",
        "import cma\n",
        "\n",
        "es = cma.CMAEvolutionStrategy(8*[0], 0.5)\n",
        "es.optimize(cma.ff.rosen, iterations=20)"
      ]
    },
    {
      "cell_type": "code",
      "execution_count": null,
      "metadata": {
        "id": "kQlVY_zDz-Sx",
        "colab": {
          "base_uri": "https://localhost:8080/",
          "height": 398
        },
        "outputId": "28db0658-e969-4ccb-8ab1-4068db806718"
      },
      "outputs": [
        {
          "output_type": "error",
          "ename": "AttributeError",
          "evalue": "ignored",
          "traceback": [
            "\u001b[0;31m---------------------------------------------------------------------------\u001b[0m",
            "\u001b[0;31mAttributeError\u001b[0m                            Traceback (most recent call last)",
            "\u001b[0;32m<ipython-input-10-d38ac292f180>\u001b[0m in \u001b[0;36m<module>\u001b[0;34m()\u001b[0m\n\u001b[1;32m      1\u001b[0m \u001b[0;31m#@title cEI\u001b[0m\u001b[0;34m\u001b[0m\u001b[0;34m\u001b[0m\u001b[0;34m\u001b[0m\u001b[0m\n\u001b[1;32m      2\u001b[0m \u001b[0;34m\u001b[0m\u001b[0m\n\u001b[0;32m----> 3\u001b[0;31m \u001b[0;32mimport\u001b[0m \u001b[0mgpflow\u001b[0m\u001b[0;34m\u001b[0m\u001b[0;34m\u001b[0m\u001b[0m\n\u001b[0m\u001b[1;32m      4\u001b[0m \u001b[0;32mimport\u001b[0m \u001b[0mgpflowopt\u001b[0m\u001b[0;34m\u001b[0m\u001b[0;34m\u001b[0m\u001b[0m\n\u001b[1;32m      5\u001b[0m \u001b[0;32mimport\u001b[0m \u001b[0mnumpy\u001b[0m \u001b[0;32mas\u001b[0m \u001b[0mnp\u001b[0m\u001b[0;34m\u001b[0m\u001b[0;34m\u001b[0m\u001b[0m\n",
            "\u001b[0;32m/usr/local/lib/python3.7/dist-packages/gpflow/__init__.py\u001b[0m in \u001b[0;36m<module>\u001b[0;34m()\u001b[0m\n\u001b[1;32m     16\u001b[0m \u001b[0;31m# flake8: noqa\u001b[0m\u001b[0;34m\u001b[0m\u001b[0;34m\u001b[0m\u001b[0;34m\u001b[0m\u001b[0m\n\u001b[1;32m     17\u001b[0m \u001b[0;32mfrom\u001b[0m \u001b[0m__future__\u001b[0m \u001b[0;32mimport\u001b[0m \u001b[0mabsolute_import\u001b[0m\u001b[0;34m\u001b[0m\u001b[0;34m\u001b[0m\u001b[0m\n\u001b[0;32m---> 18\u001b[0;31m from . import (likelihoods, kernels, ekernels, param,\n\u001b[0m\u001b[1;32m     19\u001b[0m                \u001b[0mmodel\u001b[0m\u001b[0;34m,\u001b[0m \u001b[0mgpmc\u001b[0m\u001b[0;34m,\u001b[0m \u001b[0msgpmc\u001b[0m\u001b[0;34m,\u001b[0m \u001b[0mpriors\u001b[0m\u001b[0;34m,\u001b[0m \u001b[0mgpr\u001b[0m\u001b[0;34m,\u001b[0m \u001b[0msvgp\u001b[0m\u001b[0;34m,\u001b[0m\u001b[0;34m\u001b[0m\u001b[0;34m\u001b[0m\u001b[0m\n\u001b[1;32m     20\u001b[0m                vgp, sgpr, gplvm, tf_wraps, tf_hacks)\n",
            "\u001b[0;32m/usr/local/lib/python3.7/dist-packages/gpflow/likelihoods.py\u001b[0m in \u001b[0;36m<module>\u001b[0;34m()\u001b[0m\n\u001b[1;32m     18\u001b[0m \u001b[0;32mimport\u001b[0m \u001b[0mtensorflow\u001b[0m \u001b[0;32mas\u001b[0m \u001b[0mtf\u001b[0m\u001b[0;34m\u001b[0m\u001b[0;34m\u001b[0m\u001b[0m\n\u001b[1;32m     19\u001b[0m \u001b[0;32mimport\u001b[0m \u001b[0mnumpy\u001b[0m \u001b[0;32mas\u001b[0m \u001b[0mnp\u001b[0m\u001b[0;34m\u001b[0m\u001b[0;34m\u001b[0m\u001b[0m\n\u001b[0;32m---> 20\u001b[0;31m \u001b[0;32mfrom\u001b[0m \u001b[0;34m.\u001b[0m\u001b[0mparam\u001b[0m \u001b[0;32mimport\u001b[0m \u001b[0mParameterized\u001b[0m\u001b[0;34m,\u001b[0m \u001b[0mParam\u001b[0m\u001b[0;34m,\u001b[0m \u001b[0mParamList\u001b[0m\u001b[0;34m\u001b[0m\u001b[0;34m\u001b[0m\u001b[0m\n\u001b[0m\u001b[1;32m     21\u001b[0m \u001b[0;32mfrom\u001b[0m \u001b[0;34m.\u001b[0m\u001b[0m_settings\u001b[0m \u001b[0;32mimport\u001b[0m \u001b[0msettings\u001b[0m\u001b[0;34m\u001b[0m\u001b[0;34m\u001b[0m\u001b[0m\n\u001b[1;32m     22\u001b[0m \u001b[0;32mfrom\u001b[0m \u001b[0;34m.\u001b[0m\u001b[0mquadrature\u001b[0m \u001b[0;32mimport\u001b[0m \u001b[0mhermgauss\u001b[0m\u001b[0;34m\u001b[0m\u001b[0;34m\u001b[0m\u001b[0m\n",
            "\u001b[0;32m/usr/local/lib/python3.7/dist-packages/gpflow/param.py\u001b[0m in \u001b[0;36m<module>\u001b[0;34m()\u001b[0m\n\u001b[1;32m     20\u001b[0m \u001b[0;34m\u001b[0m\u001b[0m\n\u001b[1;32m     21\u001b[0m \u001b[0;32mfrom\u001b[0m \u001b[0;34m.\u001b[0m \u001b[0;32mimport\u001b[0m \u001b[0mtransforms\u001b[0m\u001b[0;34m\u001b[0m\u001b[0;34m\u001b[0m\u001b[0m\n\u001b[0;32m---> 22\u001b[0;31m \u001b[0;32mfrom\u001b[0m \u001b[0;34m.\u001b[0m \u001b[0;32mimport\u001b[0m \u001b[0msession\u001b[0m \u001b[0;32mas\u001b[0m \u001b[0msession_mngr\u001b[0m\u001b[0;34m\u001b[0m\u001b[0;34m\u001b[0m\u001b[0m\n\u001b[0m\u001b[1;32m     23\u001b[0m \u001b[0;32mfrom\u001b[0m \u001b[0mcontextlib\u001b[0m \u001b[0;32mimport\u001b[0m \u001b[0mcontextmanager\u001b[0m\u001b[0;34m\u001b[0m\u001b[0;34m\u001b[0m\u001b[0m\n\u001b[1;32m     24\u001b[0m \u001b[0;32mfrom\u001b[0m \u001b[0;34m.\u001b[0m\u001b[0mscoping\u001b[0m \u001b[0;32mimport\u001b[0m \u001b[0mNameScoped\u001b[0m\u001b[0;34m\u001b[0m\u001b[0;34m\u001b[0m\u001b[0m\n",
            "\u001b[0;32m/usr/local/lib/python3.7/dist-packages/gpflow/session.py\u001b[0m in \u001b[0;36m<module>\u001b[0;34m()\u001b[0m\n\u001b[1;32m      6\u001b[0m \u001b[0;32mfrom\u001b[0m \u001b[0;34m.\u001b[0m\u001b[0m_settings\u001b[0m \u001b[0;32mimport\u001b[0m \u001b[0msettings\u001b[0m\u001b[0;34m\u001b[0m\u001b[0;34m\u001b[0m\u001b[0m\n\u001b[1;32m      7\u001b[0m \u001b[0;34m\u001b[0m\u001b[0m\n\u001b[0;32m----> 8\u001b[0;31m \u001b[0;32mclass\u001b[0m \u001b[0mTracerSession\u001b[0m\u001b[0;34m(\u001b[0m\u001b[0mtf\u001b[0m\u001b[0;34m.\u001b[0m\u001b[0mSession\u001b[0m\u001b[0;34m)\u001b[0m\u001b[0;34m:\u001b[0m\u001b[0;34m\u001b[0m\u001b[0;34m\u001b[0m\u001b[0m\n\u001b[0m\u001b[1;32m      9\u001b[0m     def __init__(self, output_file_name=None, output_directory=None,\n\u001b[1;32m     10\u001b[0m                  each_time=None, **kwargs):\n",
            "\u001b[0;31mAttributeError\u001b[0m: module 'tensorflow' has no attribute 'Session'"
          ]
        }
      ],
      "source": [
        "#@title cEI\n",
        "\n",
        "import gpflow\n",
        "import gpflowopt\n",
        "import numpy as np\n",
        "\n",
        "# Objective & constraint\n",
        "def townsend(X):\n",
        "    return -(np.cos((X[:,0]-0.1)*X[:,1])**2 + X[:,0] * np.sin(3*X[:,0]+X[:,1]))[:,None]\n",
        "\n",
        "def constraint(X):\n",
        "    return -(-np.cos(1.5*X[:,0]+np.pi)*np.cos(1.5*X[:,1])+np.sin(1.5*X[:,0]+np.pi)*np.sin(1.5*X[:,1]))[:,None]\n",
        "\n",
        "# Setup input domain\n",
        "domain = gpflowopt.domain.ContinuousParameter('x1', -2.25, 2.5) + \\\n",
        "         gpflowopt.domain.ContinuousParameter('x2', -2.5, 1.75)\n",
        "\n",
        "# Plot\n",
        "def plotfx():\n",
        "    X = gpflowopt.design.FactorialDesign(101, domain).generate()\n",
        "    Zo = townsend(X)\n",
        "    Zc = constraint(X)\n",
        "    mask = Zc>=0\n",
        "    Zc[mask] = np.nan\n",
        "    Zc[np.logical_not(mask)] = 1\n",
        "    Z = Zo * Zc\n",
        "    shape = (101, 101)\n",
        "\n",
        "    f, axes = plt.subplots(1, 1, figsize=(7, 5))\n",
        "    axes.contourf(X[:,0].reshape(shape), X[:,1].reshape(shape), Z.reshape(shape))\n",
        "    axes.set_xlabel('x1')\n",
        "    axes.set_ylabel('x2')\n",
        "    axes.set_xlim([domain.lower[0], domain.upper[0]])\n",
        "    axes.set_ylim([domain.lower[1], domain.upper[1]])\n",
        "    return axes\n"
      ]
    }
  ]
}